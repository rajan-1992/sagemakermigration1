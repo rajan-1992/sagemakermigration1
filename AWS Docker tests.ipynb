{
 "cells": [
  {
   "cell_type": "markdown",
   "id": "2877371d",
   "metadata": {},
   "source": [
    "# AWS Docker tests"
   ]
  },
  {
   "cell_type": "markdown",
   "id": "e8dce11e",
   "metadata": {},
   "source": [
    "## AWS Authentication"
   ]
  },
  {
   "cell_type": "code",
   "execution_count": 26,
   "id": "15e6413a",
   "metadata": {},
   "outputs": [
    {
     "data": {
      "text/plain": [
       "'2.59.3'"
      ]
     },
     "execution_count": 26,
     "metadata": {},
     "output_type": "execute_result"
    }
   ],
   "source": [
    "import boto3\n",
    "import sagemaker\n",
    "\n",
    "sagemaker.__version__"
   ]
  },
  {
   "cell_type": "code",
   "execution_count": 27,
   "id": "2c276451",
   "metadata": {},
   "outputs": [],
   "source": [
    "def aws_account_info():\n",
    "    account_id = boto3.client('sts').get_caller_identity().get('Account')\n",
    "    region = boto3.Session().region_name\n",
    "    role = sagemaker.get_execution_role()\n",
    "    ecr_base= '{}.dkr.ecr.{}.amazonaws.com'.format(account_id, region) # , ecr_repository + tag)\n",
    "    print('account=', account_id)\n",
    "    print('region=', region)\n",
    "    print('role=', role)\n",
    "    print(\"ECR base url=\", ecr_base)"
   ]
  },
  {
   "cell_type": "code",
   "execution_count": 28,
   "id": "b00bf03c",
   "metadata": {},
   "outputs": [
    {
     "name": "stdout",
     "output_type": "stream",
     "text": [
      "account= 667175760002\n",
      "region= eu-central-1\n",
      "role= arn:aws:iam::667175760002:role/service-role/AmazonSageMaker-ExecutionRole-20211001T082927\n",
      "ECR base url= 667175760002.dkr.ecr.eu-central-1.amazonaws.com\n"
     ]
    }
   ],
   "source": [
    "aws_account_info()"
   ]
  },
  {
   "cell_type": "code",
   "execution_count": 29,
   "id": "a53470d5",
   "metadata": {},
   "outputs": [],
   "source": [
    "import subprocess\n",
    "import sys\n",
    "\n",
    "cmd = \"/bin/netstat\"\n",
    " \n",
    "## run it ##\n",
    "p = subprocess.Popen(cmd, shell=True, stdout=subprocess.PIPE)\n",
    "\n",
    "out= p.communicate()\n",
    "\n",
    "if False:\n",
    "## But do not wait till netstat finish, start displaying output immediately ##\n",
    "    while True:\n",
    "        out = p.stdout.read(1)\n",
    "        if out == '' and p.poll() != None:\n",
    "            break\n",
    "        if out != '':\n",
    "            sys.stdout.write(out)\n",
    "            sys.stdout.flush()"
   ]
  },
  {
   "cell_type": "code",
   "execution_count": null,
   "id": "753b572c",
   "metadata": {},
   "outputs": [],
   "source": [
    "print(out[0].decode('UTF-8'))"
   ]
  },
  {
   "cell_type": "markdown",
   "id": "ed86cbdf",
   "metadata": {},
   "source": [
    "## Set up basic container "
   ]
  },
  {
   "cell_type": "code",
   "execution_count": 4,
   "id": "3e4248ec",
   "metadata": {},
   "outputs": [
    {
     "data": {
      "text/plain": [
       "True"
      ]
     },
     "execution_count": 4,
     "metadata": {},
     "output_type": "execute_result"
    }
   ],
   "source": [
    "'sage' in 'sagemaker-abc'"
   ]
  },
  {
   "cell_type": "code",
   "execution_count": 30,
   "id": "0d6e1a18",
   "metadata": {},
   "outputs": [],
   "source": [
    "import tempfile\n",
    "import subprocess\n",
    "import os\n",
    "\n",
    "def run_cmd(cmd, dryrun= True, check= True):\n",
    "    print(cmd)\n",
    "    if dryrun is not True:\n",
    "        # print(\"exec\")\n",
    "        p = subprocess.Popen(cmd, shell=True, stdout=subprocess.PIPE)\n",
    "        out, err= p.communicate()\n",
    "        if err is not None:\n",
    "            err= err.decode('UTF-8')\n",
    "        if out is not None:\n",
    "            out= out.decode('UTF-8')\n",
    "        p_status = p.wait()\n",
    "\n",
    "        print(out)\n",
    "        \n",
    "        if p_status != 0:\n",
    "            print(\"** Non-zero status returned! **\")\n",
    "            if err is not None:\n",
    "                print(err)\n",
    "            if check:\n",
    "                assert p_status==0, \"Command execution failed. Abort!\"\n",
    "        # subprocess.run(cmd, shell= True, check= check)\n",
    "    \n",
    "def make_Docker(dirname='docker_test1', libs= ['pandas==0.25.3 scikit-learn==0.21.3 boto3==1.18.21 sagemaker==2.48.1'], \n",
    "                img_name= 'docker-auto-test', img_tag='latest', ecr_base= None, dryrun= False,\n",
    "                cleanup= True):\n",
    "    \n",
    "    if 'sagemaker' not in img_name:\n",
    "        img_name= 'sagemaker-'+img_name\n",
    "        \n",
    "    if dirname is None:\n",
    "        tmpdirname= tempfile.TemporaryDirectory(prefix='docker_tmpdir_')  \n",
    "        print('created temporary directory', tmpdirname.name)\n",
    "        dirname= tmpdirname.name\n",
    "    else:\n",
    "        if os.path.isdir(dirname) is False:\n",
    "            os.makedirs(dirname)\n",
    "            \n",
    "    docker_fname= dirname + \"/Dockerfile\"\n",
    "    \n",
    "    libstr= ' \\\\\\n\\t\\t'.join(libs)\n",
    "    docker_cmd= \\\n",
    "f'''\n",
    "FROM python:3.7-slim-buster\n",
    "\n",
    "RUN apt-get update \\\\\n",
    "      && apt-get install -y \\\\\n",
    "      # build-essential \\\\\n",
    "      curl zip unzip\n",
    "\n",
    "RUN pip3 install {libstr}\n",
    "\n",
    "RUN curl \"https://awscli.amazonaws.com/awscli-exe-linux-x86_64.zip\" -o \"awscliv2.zip\" \\\\\n",
    "    &&   unzip -q awscliv2.zip \\\\\n",
    "    &&   ./aws/install\n",
    "    \n",
    "ENV PYTHONUNBUFFERED=TRUE\n",
    "\n",
    "ENTRYPOINT [\"python3\"]\n",
    "\n",
    "'''\n",
    "    # compile docker\n",
    "    f= open(docker_fname, 'w')\n",
    "    f.writelines(docker_cmd)\n",
    "    f.close()\n",
    "    \n",
    "    # upload to AWS ECR\n",
    "    assert ecr_base is not None, 'Need ECR path'\n",
    "    \n",
    "    cmd= 'aws ecr get-login-password --region eu-central-1 | docker login --username AWS --password-stdin {}'.format(ecr_base)\n",
    "    run_cmd(cmd, check= True)\n",
    "    \n",
    "    cmd= \"aws ecr create-repository --repository-name {}\".format(img_name) \n",
    "    run_cmd(cmd, check= False, dryrun= dryrun)\n",
    "    cmd= \"docker build -t {} {}\".format(img_name, dirname)\n",
    "    run_cmd(cmd, dryrun= dryrun)\n",
    "    cmd= \"docker tag {}:{} {}/{}:{}\".format(img_name, img_tag, ecr_base, img_name, img_tag) # \" base-layer:latest 667175760002.dkr.ecr.eu-central-1.amazonaws.com/base-layer:latest\n",
    "    run_cmd(cmd, dryrun= dryrun)\n",
    "    cmd= \"docker push {}/{}:{}\".format(ecr_base, img_name, img_tag) # 667175760002.dkr.ecr.eu-central-1.amazonaws.com/base-layer:latest\n",
    "    run_cmd(cmd, dryrun= dryrun)\n",
    "    \n",
    "    # clean up here unless\n",
    "    if cleanup and (dirname is None):\n",
    "        tmpdirname.cleanup()\n",
    "    return docker_cmd\n",
    "    \n"
   ]
  },
  {
   "cell_type": "code",
   "execution_count": 32,
   "id": "61a64c5e",
   "metadata": {},
   "outputs": [
    {
     "name": "stdout",
     "output_type": "stream",
     "text": [
      "aws ecr get-login-password --region eu-central-1 | docker login --username AWS --password-stdin 667175760002.dkr.ecr.eu-central-1.amazonaws.com\n",
      "aws ecr create-repository --repository-name sagemaker-processing-container-test2\n",
      "\n",
      "** Non-zero status returned! **\n",
      "docker build -t sagemaker-processing-container-test2 docker_test2/\n",
      "Sending build context to Docker daemon  2.048kB\n",
      "Step 1/6 : FROM python:3.7-slim-buster\n",
      " ---> a71a39002ed1\n",
      "Step 2/6 : RUN apt-get update       && apt-get install -y       curl zip unzip\n",
      " ---> Using cache\n",
      " ---> 5329933107cf\n",
      "Step 3/6 : RUN pip3 install pandas==0.25.3 scikit-learn==0.21.3 boto3==1.18.21 sagemaker==2.48.1\n",
      " ---> Using cache\n",
      " ---> 7cc1e5a6c9f6\n",
      "Step 4/6 : RUN curl \"https://awscli.amazonaws.com/awscli-exe-linux-x86_64.zip\" -o \"awscliv2.zip\"     &&   unzip -q awscliv2.zip     &&   ./aws/install\n",
      " ---> Using cache\n",
      " ---> 2c7e79b46881\n",
      "Step 5/6 : ENV PYTHONUNBUFFERED=TRUE\n",
      " ---> Using cache\n",
      " ---> 7a067ebdb646\n",
      "Step 6/6 : ENTRYPOINT [\"python3\"]\n",
      " ---> Using cache\n",
      " ---> ca2a3a37a370\n",
      "Successfully built ca2a3a37a370\n",
      "Successfully tagged sagemaker-processing-container-test2:latest\n",
      "\n",
      "docker tag sagemaker-processing-container-test2:latest 667175760002.dkr.ecr.eu-central-1.amazonaws.com/sagemaker-processing-container-test2:latest\n",
      "\n",
      "docker push 667175760002.dkr.ecr.eu-central-1.amazonaws.com/sagemaker-processing-container-test2:latest\n",
      "The push refers to repository [667175760002.dkr.ecr.eu-central-1.amazonaws.com/sagemaker-processing-container-test2]\n",
      "80f095ea2fc5: Preparing\n",
      "b1cdcde198c6: Preparing\n",
      "5e6f9e306468: Preparing\n",
      "d9aa152a5f56: Preparing\n",
      "0529c86e1a26: Preparing\n",
      "033123b581ee: Preparing\n",
      "29157eb5f94f: Preparing\n",
      "476baebdfbf7: Preparing\n",
      "033123b581ee: Waiting\n",
      "29157eb5f94f: Waiting\n",
      "476baebdfbf7: Waiting\n",
      "b1cdcde198c6: Layer already exists\n",
      "d9aa152a5f56: Layer already exists\n",
      "0529c86e1a26: Layer already exists\n",
      "5e6f9e306468: Layer already exists\n",
      "80f095ea2fc5: Layer already exists\n",
      "29157eb5f94f: Layer already exists\n",
      "476baebdfbf7: Layer already exists\n",
      "033123b581ee: Layer already exists\n",
      "latest: digest: sha256:2e7cebb7d3fd17f696f5e47884ae1b5cc8076f7d5ca60b9e6862a4a66667a71c size: 2008\n",
      "\n",
      "\n",
      "FROM python:3.7-slim-buster\n",
      "\n",
      "RUN apt-get update \\\n",
      "      && apt-get install -y \\\n",
      "      # build-essential \\\n",
      "      curl zip unzip\n",
      "\n",
      "RUN pip3 install pandas==0.25.3 scikit-learn==0.21.3 boto3==1.18.21 sagemaker==2.48.1\n",
      "\n",
      "RUN curl \"https://awscli.amazonaws.com/awscli-exe-linux-x86_64.zip\" -o \"awscliv2.zip\" \\\n",
      "    &&   unzip -q awscliv2.zip \\\n",
      "    &&   ./aws/install\n",
      "    \n",
      "ENV PYTHONUNBUFFERED=TRUE\n",
      "\n",
      "ENTRYPOINT [\"python3\"]\n",
      "\n",
      "\n"
     ]
    }
   ],
   "source": [
    "print(make_Docker(dirname= 'docker_test2/', img_name= 'sagemaker-processing-container-test2', ecr_base='667175760002.dkr.ecr.eu-central-1.amazonaws.com', cleanup= False))"
   ]
  },
  {
   "cell_type": "code",
   "execution_count": 15,
   "id": "187ceeae",
   "metadata": {},
   "outputs": [
    {
     "name": "stdout",
     "output_type": "stream",
     "text": [
      "aws ecr get-login-password --region eu-central-1 | docker login --username AWS --password-stdin 667175760002.dkr.ecr.eu-central-1.amazonaws.com\n",
      "aws ecr create-repository --repository-name another-sagemaker-test\n",
      "\n",
      "** Non-zero status returned! **\n",
      "docker build -t another-sagemaker-test docker_test6/\n",
      "Sending build context to Docker daemon  2.048kB\n",
      "Step 1/6 : FROM python:3.7-slim-buster\n",
      " ---> a71a39002ed1\n",
      "Step 2/6 : RUN apt-get update       && apt-get install -y       curl zip unzip\n",
      " ---> Using cache\n",
      " ---> 5329933107cf\n",
      "Step 3/6 : RUN pip3 install pandas==0.25.3 scikit-learn==0.21.3 boto3==1.18.21 sagemaker==2.48.1 \t\tboto3\n",
      " ---> Using cache\n",
      " ---> d40ded52adab\n",
      "Step 4/6 : RUN curl \"https://awscli.amazonaws.com/awscli-exe-linux-x86_64.zip\" -o \"awscliv2.zip\"     &&   unzip -q awscliv2.zip     &&   ./aws/install\n",
      " ---> Running in 3c9698a90ea7\n",
      "\u001b[91m  % Total    % Received % Xferd  Average Speed   Time    Time     Time  Current\n",
      "                                 Dload  Upload   Total   Spent    Left  Speed\n",
      "100 42.4M  100 42.4M    0     0   104M      0 --:--:-- --:--:-- --:--:--  104M\u001b[0m\u001b[91m\n",
      "\u001b[0mYou can now run: /usr/local/bin/aws --version\n",
      "Removing intermediate container 3c9698a90ea7\n",
      " ---> 3948ee4c6dd8\n",
      "Step 5/6 : ENV PYTHONUNBUFFERED=TRUE\n",
      " ---> Running in aada4af7a875\n",
      "Removing intermediate container aada4af7a875\n",
      " ---> 3697d3edf930\n",
      "Step 6/6 : ENTRYPOINT [\"python3\"]\n",
      " ---> Running in 5ca517c4f358\n",
      "Removing intermediate container 5ca517c4f358\n",
      " ---> 9e8a38a5034b\n",
      "Successfully built 9e8a38a5034b\n",
      "Successfully tagged another-sagemaker-test:latest\n",
      "\n",
      "docker tag another-sagemaker-test:latest 667175760002.dkr.ecr.eu-central-1.amazonaws.com/another-sagemaker-test:latest\n",
      "\n",
      "docker push 667175760002.dkr.ecr.eu-central-1.amazonaws.com/another-sagemaker-test:latest\n",
      "The push refers to repository [667175760002.dkr.ecr.eu-central-1.amazonaws.com/another-sagemaker-test]\n",
      "d87df965037a: Preparing\n",
      "fbf0a227c55c: Preparing\n",
      "5e6f9e306468: Preparing\n",
      "d9aa152a5f56: Preparing\n",
      "0529c86e1a26: Preparing\n",
      "033123b581ee: Preparing\n",
      "29157eb5f94f: Preparing\n",
      "476baebdfbf7: Preparing\n",
      "\n",
      "** Non-zero status returned! **\n"
     ]
    },
    {
     "ename": "AssertionError",
     "evalue": "Command execution failed. Abort!",
     "output_type": "error",
     "traceback": [
      "\u001b[0;31m---------------------------------------------------------------------------\u001b[0m",
      "\u001b[0;31mAssertionError\u001b[0m                            Traceback (most recent call last)",
      "\u001b[0;32m<ipython-input-15-967e662d2a1b>\u001b[0m in \u001b[0;36m<module>\u001b[0;34m\u001b[0m\n\u001b[0;32m----> 1\u001b[0;31m \u001b[0mprint\u001b[0m\u001b[0;34m(\u001b[0m\u001b[0mmake_Docker\u001b[0m\u001b[0;34m(\u001b[0m\u001b[0mdirname\u001b[0m\u001b[0;34m=\u001b[0m \u001b[0;34m'docker_test6/'\u001b[0m\u001b[0;34m,\u001b[0m \u001b[0mimg_name\u001b[0m\u001b[0;34m=\u001b[0m \u001b[0;34m'another-sagemaker-test'\u001b[0m\u001b[0;34m,\u001b[0m \u001b[0mecr_base\u001b[0m\u001b[0;34m=\u001b[0m\u001b[0;34m'667175760002.dkr.ecr.eu-central-1.amazonaws.com'\u001b[0m\u001b[0;34m,\u001b[0m \u001b[0mcleanup\u001b[0m\u001b[0;34m=\u001b[0m \u001b[0;32mFalse\u001b[0m\u001b[0;34m,\u001b[0m \u001b[0mdryrun\u001b[0m\u001b[0;34m=\u001b[0m \u001b[0;32mFalse\u001b[0m\u001b[0;34m)\u001b[0m\u001b[0;34m)\u001b[0m\u001b[0;34m\u001b[0m\u001b[0;34m\u001b[0m\u001b[0m\n\u001b[0m",
      "\u001b[0;32m<ipython-input-14-ec9cf6d4cc06>\u001b[0m in \u001b[0;36mmake_Docker\u001b[0;34m(dirname, libs, img_name, img_tag, ecr_base, dryrun, cleanup)\u001b[0m\n\u001b[1;32m     81\u001b[0m     \u001b[0mrun_cmd\u001b[0m\u001b[0;34m(\u001b[0m\u001b[0mcmd\u001b[0m\u001b[0;34m,\u001b[0m \u001b[0mdryrun\u001b[0m\u001b[0;34m=\u001b[0m \u001b[0mdryrun\u001b[0m\u001b[0;34m)\u001b[0m\u001b[0;34m\u001b[0m\u001b[0;34m\u001b[0m\u001b[0m\n\u001b[1;32m     82\u001b[0m     \u001b[0mcmd\u001b[0m\u001b[0;34m=\u001b[0m \u001b[0;34m\"docker push {}/{}:{}\"\u001b[0m\u001b[0;34m.\u001b[0m\u001b[0mformat\u001b[0m\u001b[0;34m(\u001b[0m\u001b[0mecr_base\u001b[0m\u001b[0;34m,\u001b[0m \u001b[0mimg_name\u001b[0m\u001b[0;34m,\u001b[0m \u001b[0mimg_tag\u001b[0m\u001b[0;34m)\u001b[0m \u001b[0;31m# 667175760002.dkr.ecr.eu-central-1.amazonaws.com/base-layer:latest\u001b[0m\u001b[0;34m\u001b[0m\u001b[0;34m\u001b[0m\u001b[0m\n\u001b[0;32m---> 83\u001b[0;31m     \u001b[0mrun_cmd\u001b[0m\u001b[0;34m(\u001b[0m\u001b[0mcmd\u001b[0m\u001b[0;34m,\u001b[0m \u001b[0mdryrun\u001b[0m\u001b[0;34m=\u001b[0m \u001b[0mdryrun\u001b[0m\u001b[0;34m)\u001b[0m\u001b[0;34m\u001b[0m\u001b[0;34m\u001b[0m\u001b[0m\n\u001b[0m\u001b[1;32m     84\u001b[0m \u001b[0;34m\u001b[0m\u001b[0m\n\u001b[1;32m     85\u001b[0m     \u001b[0;31m# clean up here unless\u001b[0m\u001b[0;34m\u001b[0m\u001b[0;34m\u001b[0m\u001b[0;34m\u001b[0m\u001b[0m\n",
      "\u001b[0;32m<ipython-input-14-ec9cf6d4cc06>\u001b[0m in \u001b[0;36mrun_cmd\u001b[0;34m(cmd, dryrun, check)\u001b[0m\n\u001b[1;32m     22\u001b[0m                 \u001b[0mprint\u001b[0m\u001b[0;34m(\u001b[0m\u001b[0merr\u001b[0m\u001b[0;34m)\u001b[0m\u001b[0;34m\u001b[0m\u001b[0;34m\u001b[0m\u001b[0m\n\u001b[1;32m     23\u001b[0m             \u001b[0;32mif\u001b[0m \u001b[0mcheck\u001b[0m\u001b[0;34m:\u001b[0m\u001b[0;34m\u001b[0m\u001b[0;34m\u001b[0m\u001b[0m\n\u001b[0;32m---> 24\u001b[0;31m                 \u001b[0;32massert\u001b[0m \u001b[0mp_status\u001b[0m\u001b[0;34m==\u001b[0m\u001b[0;36m0\u001b[0m\u001b[0;34m,\u001b[0m \u001b[0;34m\"Command execution failed. Abort!\"\u001b[0m\u001b[0;34m\u001b[0m\u001b[0;34m\u001b[0m\u001b[0m\n\u001b[0m\u001b[1;32m     25\u001b[0m         \u001b[0;31m# subprocess.run(cmd, shell= True, check= check)\u001b[0m\u001b[0;34m\u001b[0m\u001b[0;34m\u001b[0m\u001b[0;34m\u001b[0m\u001b[0m\n\u001b[1;32m     26\u001b[0m \u001b[0;34m\u001b[0m\u001b[0m\n",
      "\u001b[0;31mAssertionError\u001b[0m: Command execution failed. Abort!"
     ]
    }
   ],
   "source": [
    "print(make_Docker(dirname= 'docker_test6/', img_name= 'another-sagemaker-test', ecr_base='667175760002.dkr.ecr.eu-central-1.amazonaws.com', cleanup= False, dryrun= False))"
   ]
  },
  {
   "cell_type": "code",
   "execution_count": 25,
   "id": "d896f34c",
   "metadata": {},
   "outputs": [
    {
     "name": "stdout",
     "output_type": "stream",
     "text": [
      "ls -ltr\n",
      "total 9252\n",
      "drwx------  2 root     root       16384 Aug  6  2021 lost+found\n",
      "-rw-rw-r--  1 ec2-user ec2-user 5383698 Aug 26  2021 bank_clean.csv\n",
      "-rw-rw-r--  1 ec2-user ec2-user 3544984 Aug 26  2021 train.csv\n",
      "-rw-rw-r--  1 ec2-user ec2-user   32622 Aug 26  2021 Untitled.ipynb\n",
      "drwxrwxr-x 51 ec2-user ec2-user    4096 Sep  1  2021 amazon-sagemaker-examples\n",
      "drwxrwxr-x  2 ec2-user ec2-user    4096 Sep 29  2021 docker_test3\n",
      "drwxr-xr-x  7 ec2-user ec2-user    6144 Sep 29  2021 efs\n",
      "drwxrwxr-x  2 ec2-user ec2-user    4096 Sep 29  2021 docker_test1\n",
      "drwxrwxr-x  2 ec2-user ec2-user    4096 Sep 29  2021 docker_test5\n",
      "drwxrwxr-x  2 ec2-user ec2-user    4096 Sep 30  2021 docker_test4\n",
      "-rw-rw-r--  1 ec2-user ec2-user   35316 Oct  1  2021 AWS processing test.ipynb\n",
      "drwxrwxr-x  3 ec2-user ec2-user    4096 Oct  1  2021 s3_cache\n",
      "drwxrwxr-x  2 ec2-user ec2-user   36864 Oct  1  2021 s3_cache2\n",
      "drwxrwxr-x  2 ec2-user ec2-user   36864 Oct  1  2021 s3_cache3\n",
      "drwxrwxr-x  2 ec2-user ec2-user    4096 Oct  1  2021 docker_test6\n",
      "-rw-rw-r--  1 ec2-user ec2-user    3608 Oct  1  2021 preprocessing.py\n",
      "-rw-rw-r--  1 ec2-user ec2-user  297511 Oct  1  2021 AWS processing ML workflow.ipynb\n",
      "-rw-rw-r--  1 ec2-user ec2-user   42392 May  6 13:24 AWS Docker tests.ipynb\n",
      "\n"
     ]
    }
   ],
   "source": [
    "run_cmd(\"ls -ltr\", dryrun= False, check= True)"
   ]
  },
  {
   "cell_type": "code",
   "execution_count": 18,
   "id": "dfee0d29",
   "metadata": {},
   "outputs": [
    {
     "name": "stdout",
     "output_type": "stream",
     "text": [
      "aws ecr get-login-password --region eu-central-1 | docker login --username AWS --password-stdin 667175760002.dkr.ecr.eu-central-1.amazonaws.com\n",
      "aws ecr create-repository --repository-name sagemaker-another-test\n",
      "docker build -t sagemaker-another-test docker_test5/\n",
      "docker tag sagemaker-another-test:latest 667175760002.dkr.ecr.eu-central-1.amazonaws.com/sagemaker-another-test:latest\n",
      "docker push 667175760002.dkr.ecr.eu-central-1.amazonaws.com/sagemaker-another-test:latest\n",
      "\n",
      "FROM python:3.7-slim-buster\n",
      "\n",
      "RUN pip3 install pandas==0.25.3 scikit-learn==0.21.3 boto3==1.18.21 sagemaker==2.48.1 \\\n",
      "\t\tboto3\n",
      "\n",
      "ENV PYTHONUNBUFFERED=TRUE\n",
      "\n",
      "ENTRYPOINT [\"python3\"]\n",
      "\n",
      "\n"
     ]
    }
   ],
   "source": [
    "print(make_Docker(dirname= 'docker_test5/', img_name= 'another-test', ecr_base='667175760002.dkr.ecr.eu-central-1.amazonaws.com', cleanup= False))"
   ]
  },
  {
   "cell_type": "code",
   "execution_count": 5,
   "id": "e3439854",
   "metadata": {},
   "outputs": [
    {
     "name": "stdout",
     "output_type": "stream",
     "text": [
      "aws ecr get-login-password --region eu-central-1 | docker login --username AWS --password-stdin 667175760002.dkr.ecr.eu-central-1.amazonaws.com\n",
      "aws ecr create-repository --repository-name sagemaker-processing-container-test3\n",
      "docker build -t sagemaker-processing-container-test3 docker_test1/\n",
      "docker tag sagemaker-processing-container-test3:latest 667175760002.dkr.ecr.eu-central-1.amazonaws.com/sagemaker-processing-container-test3:latest\n",
      "docker push 667175760002.dkr.ecr.eu-central-1.amazonaws.com/sagemaker-processing-container-test3:latest\n",
      "\n",
      "FROM python:3.7-slim-buster\n",
      "\n",
      "RUN pip3 install pandas==0.25.3 scikit-learn==0.21.3 boto3==1.18.21 sagemaker==2.48.1 \\\n",
      "\t\tboto3\n",
      "\n",
      "ENV PYTHONUNBUFFERED=TRUE\n",
      "\n",
      "ENTRYPOINT [\"python3\"]\n",
      "\n",
      "\n"
     ]
    }
   ],
   "source": [
    "print(make_Docker(dirname= 'docker_test1/', img_name= 'sagemaker-processing-container-test3', ecr_base='667175760002.dkr.ecr.eu-central-1.amazonaws.com', cleanup= False))"
   ]
  },
  {
   "cell_type": "code",
   "execution_count": 6,
   "id": "08bc175c",
   "metadata": {},
   "outputs": [
    {
     "name": "stdout",
     "output_type": "stream",
     "text": [
      "aws ecr get-login-password --region eu-central-1 | docker login --username AWS --password-stdin 667175760002.dkr.ecr.eu-central-1.amazonaws.com\n",
      "aws ecr create-repository --repository-name blah-blah-test\n",
      "docker build -t blah-blah-test docker_test1/\n",
      "docker tag blah-blah-test:latest 667175760002.dkr.ecr.eu-central-1.amazonaws.com/blah-blah-test:latest\n",
      "docker push 667175760002.dkr.ecr.eu-central-1.amazonaws.com/blah-blah-test:latest\n",
      "\n",
      "FROM python:3.7-slim-buster\n",
      "\n",
      "RUN pip3 install pandas==0.25.3 scikit-learn==0.21.3 boto3==1.18.21 sagemaker==2.48.1 \\\n",
      "\t\tboto3\n",
      "\n",
      "ENV PYTHONUNBUFFERED=TRUE\n",
      "\n",
      "ENTRYPOINT [\"python3\"]\n",
      "\n",
      "\n"
     ]
    }
   ],
   "source": [
    "# failed\n",
    "print(make_Docker(dirname= 'docker_test1/', img_name= 'blah-blah-test', ecr_base='667175760002.dkr.ecr.eu-central-1.amazonaws.com', cleanup= False))"
   ]
  },
  {
   "cell_type": "code",
   "execution_count": 8,
   "id": "c51fe738",
   "metadata": {},
   "outputs": [
    {
     "name": "stdout",
     "output_type": "stream",
     "text": [
      "aws ecr get-login-password --region eu-central-1 | docker login --username AWS --password-stdin 667175760002.dkr.ecr.eu-central-1.amazonaws.com\n",
      "aws ecr create-repository --repository-name sagemaker-blah-blah-test\n",
      "docker build -t sagemaker-blah-blah-test docker_test1/\n",
      "docker tag sagemaker-blah-blah-test:latest 667175760002.dkr.ecr.eu-central-1.amazonaws.com/sagemaker-blah-blah-test:latest\n",
      "docker push 667175760002.dkr.ecr.eu-central-1.amazonaws.com/sagemaker-blah-blah-test:latest\n",
      "\n",
      "FROM python:3.7-slim-buster\n",
      "\n",
      "RUN pip3 install pandas==0.25.3 scikit-learn==0.21.3 boto3==1.18.21 sagemaker==2.48.1 \\\n",
      "\t\tboto3\n",
      "\n",
      "ENV PYTHONUNBUFFERED=TRUE\n",
      "\n",
      "ENTRYPOINT [\"python3\"]\n",
      "\n",
      "\n"
     ]
    }
   ],
   "source": [
    "# success\n",
    "print(make_Docker(dirname= 'docker_test1/', img_name= 'sagemaker-blah-blah-test', ecr_base='667175760002.dkr.ecr.eu-central-1.amazonaws.com', cleanup= False))"
   ]
  },
  {
   "cell_type": "code",
   "execution_count": 10,
   "id": "9c996013",
   "metadata": {},
   "outputs": [
    {
     "name": "stdout",
     "output_type": "stream",
     "text": [
      "aws ecr get-login-password --region eu-central-1 | docker login --username AWS --password-stdin 667175760002.dkr.ecr.eu-central-1.amazonaws.com\n",
      "aws ecr create-repository --repository-name a-blah-blah-test\n",
      "docker build -t a-blah-blah-test docker_test1/\n",
      "docker tag a-blah-blah-test:latest 667175760002.dkr.ecr.eu-central-1.amazonaws.com/a-blah-blah-test:latest\n",
      "docker push 667175760002.dkr.ecr.eu-central-1.amazonaws.com/a-blah-blah-test:latest\n",
      "\n",
      "FROM python:3.7-slim-buster\n",
      "\n",
      "RUN pip3 install pandas==0.25.3 scikit-learn==0.21.3 boto3==1.18.21 sagemaker==2.48.1 \\\n",
      "\t\tboto3\n",
      "\n",
      "ENV PYTHONUNBUFFERED=TRUE\n",
      "\n",
      "ENTRYPOINT [\"python3\"]\n",
      "\n",
      "\n"
     ]
    }
   ],
   "source": [
    "# failed\n",
    "print(make_Docker(dirname= 'docker_test1/', img_name= 'a-blah-blah-test', ecr_base='667175760002.dkr.ecr.eu-central-1.amazonaws.com', cleanup= False))"
   ]
  },
  {
   "cell_type": "code",
   "execution_count": 14,
   "id": "bea92e67",
   "metadata": {},
   "outputs": [
    {
     "name": "stdout",
     "output_type": "stream",
     "text": [
      "aws ecr get-login-password --region eu-central-1 | docker login --username AWS --password-stdin 667175760002.dkr.ecr.eu-central-1.amazonaws.com\n",
      "aws ecr create-repository --repository-name sagemaker-a-blah-blah-test\n",
      "docker build -t sagemaker-a-blah-blah-test docker_test1/\n",
      "docker tag sagemaker-a-blah-blah-test:latest 667175760002.dkr.ecr.eu-central-1.amazonaws.com/sagemaker-a-blah-blah-test:latest\n",
      "docker push 667175760002.dkr.ecr.eu-central-1.amazonaws.com/sagemaker-a-blah-blah-test:latest\n",
      "\n",
      "FROM python:3.7-slim-buster\n",
      "\n",
      "RUN pip3 install pandas==0.25.3 scikit-learn==0.21.3 boto3==1.18.21 sagemaker==2.48.1 \\\n",
      "\t\tboto3\n",
      "\n",
      "ENV PYTHONUNBUFFERED=TRUE\n",
      "\n",
      "ENTRYPOINT [\"python3\"]\n",
      "\n",
      "\n"
     ]
    }
   ],
   "source": [
    "print(make_Docker(dirname= 'docker_test1/', img_name= 'sagemaker-a-blah-blah-test', ecr_base='667175760002.dkr.ecr.eu-central-1.amazonaws.com', cleanup= False))"
   ]
  },
  {
   "cell_type": "code",
   "execution_count": 13,
   "id": "e0b6e26d",
   "metadata": {},
   "outputs": [
    {
     "name": "stdout",
     "output_type": "stream",
     "text": [
      "aws ecr get-login-password --region eu-central-1 | docker login --username AWS --password-stdin 667175760002.dkr.ecr.eu-central-1.amazonaws.com\n",
      "aws ecr create-repository --repository-name i-have-sagemaker-blah-blah-test\n",
      "docker build -t i-have-sagemaker-blah-blah-test docker_test1/\n",
      "docker tag i-have-sagemaker-blah-blah-test:latest 667175760002.dkr.ecr.eu-central-1.amazonaws.com/i-have-sagemaker-blah-blah-test:latest\n",
      "docker push 667175760002.dkr.ecr.eu-central-1.amazonaws.com/i-have-sagemaker-blah-blah-test:latest\n",
      "\n",
      "FROM python:3.7-slim-buster\n",
      "\n",
      "RUN pip3 install pandas==0.25.3 scikit-learn==0.21.3 boto3==1.18.21 sagemaker==2.48.1 \\\n",
      "\t\tboto3\n",
      "\n",
      "ENV PYTHONUNBUFFERED=TRUE\n",
      "\n",
      "ENTRYPOINT [\"python3\"]\n",
      "\n",
      "\n"
     ]
    }
   ],
   "source": [
    "print(make_Docker(dirname= 'docker_test1/', img_name= 'i-have-sagemaker-blah-blah-test', ecr_base='667175760002.dkr.ecr.eu-central-1.amazonaws.com', cleanup= False))"
   ]
  },
  {
   "cell_type": "code",
   "execution_count": 12,
   "id": "c360199f",
   "metadata": {},
   "outputs": [
    {
     "name": "stdout",
     "output_type": "stream",
     "text": [
      "aws ecr get-login-password --region eu-central-1 | docker login --username AWS --password-stdin 667175760002.dkr.ecr.eu-central-1.amazonaws.com\n",
      "aws ecr create-repository --repository-name not-sage-blah-blah-test\n",
      "docker build -t not-sage-blah-blah-test docker_test1/\n",
      "docker tag not-sage-blah-blah-test:latest 667175760002.dkr.ecr.eu-central-1.amazonaws.com/not-sage-blah-blah-test:latest\n",
      "docker push 667175760002.dkr.ecr.eu-central-1.amazonaws.com/not-sage-blah-blah-test:latest\n",
      "\n",
      "FROM python:3.7-slim-buster\n",
      "\n",
      "RUN pip3 install pandas==0.25.3 scikit-learn==0.21.3 boto3==1.18.21 sagemaker==2.48.1 \\\n",
      "\t\tboto3\n",
      "\n",
      "ENV PYTHONUNBUFFERED=TRUE\n",
      "\n",
      "ENTRYPOINT [\"python3\"]\n",
      "\n",
      "\n"
     ]
    }
   ],
   "source": [
    "# failed\n",
    "print(make_Docker(dirname= 'docker_test1/', img_name= 'not-sage-blah-blah-test', ecr_base='667175760002.dkr.ecr.eu-central-1.amazonaws.com', cleanup= False))"
   ]
  },
  {
   "cell_type": "code",
   "execution_count": 11,
   "id": "4f2a64a9",
   "metadata": {},
   "outputs": [
    {
     "name": "stdout",
     "output_type": "stream",
     "text": [
      "aws ecr get-login-password --region eu-central-1 | docker login --username AWS --password-stdin 667175760002.dkr.ecr.eu-central-1.amazonaws.com\n",
      "aws ecr create-repository --repository-name not-sag-blah-blah-test\n",
      "docker build -t not-sag-blah-blah-test docker_test1/\n",
      "docker tag not-sag-blah-blah-test:latest 667175760002.dkr.ecr.eu-central-1.amazonaws.com/not-sag-blah-blah-test:latest\n",
      "docker push 667175760002.dkr.ecr.eu-central-1.amazonaws.com/not-sag-blah-blah-test:latest\n",
      "\n",
      "FROM python:3.7-slim-buster\n",
      "\n",
      "RUN pip3 install pandas==0.25.3 scikit-learn==0.21.3 boto3==1.18.21 sagemaker==2.48.1 \\\n",
      "\t\tboto3\n",
      "\n",
      "ENV PYTHONUNBUFFERED=TRUE\n",
      "\n",
      "ENTRYPOINT [\"python3\"]\n",
      "\n",
      "\n"
     ]
    }
   ],
   "source": [
    "#  fail\n",
    "print(make_Docker(dirname= 'docker_test1/', img_name= 'not-sag-blah-blah-test', ecr_base='667175760002.dkr.ecr.eu-central-1.amazonaws.com', cleanup= False))"
   ]
  },
  {
   "cell_type": "code",
   "execution_count": 9,
   "id": "f18f3d8b",
   "metadata": {},
   "outputs": [
    {
     "name": "stdout",
     "output_type": "stream",
     "text": [
      "aws ecr get-login-password --region eu-central-1 | docker login --username AWS --password-stdin 667175760002.dkr.ecr.eu-central-1.amazonaws.com\n",
      "aws ecr create-repository --repository-name not-sagemaker-blah-blah-test\n",
      "docker build -t not-sagemaker-blah-blah-test docker_test1/\n",
      "docker tag not-sagemaker-blah-blah-test:latest 667175760002.dkr.ecr.eu-central-1.amazonaws.com/not-sagemaker-blah-blah-test:latest\n",
      "docker push 667175760002.dkr.ecr.eu-central-1.amazonaws.com/not-sagemaker-blah-blah-test:latest\n",
      "\n",
      "FROM python:3.7-slim-buster\n",
      "\n",
      "RUN pip3 install pandas==0.25.3 scikit-learn==0.21.3 boto3==1.18.21 sagemaker==2.48.1 \\\n",
      "\t\tboto3\n",
      "\n",
      "ENV PYTHONUNBUFFERED=TRUE\n",
      "\n",
      "ENTRYPOINT [\"python3\"]\n",
      "\n",
      "\n"
     ]
    }
   ],
   "source": [
    "# success\n",
    "print(make_Docker(dirname= 'docker_test1/', img_name= 'not-sagemaker-blah-blah-test', ecr_base='667175760002.dkr.ecr.eu-central-1.amazonaws.com', cleanup= False))"
   ]
  },
  {
   "cell_type": "code",
   "execution_count": 7,
   "id": "6710935e",
   "metadata": {},
   "outputs": [
    {
     "name": "stdout",
     "output_type": "stream",
     "text": [
      "aws ecr get-login-password --region eu-central-1 | docker login --username AWS --password-stdin 667175760002.dkr.ecr.eu-central-1.amazonaws.com\n",
      "aws ecr create-repository --repository-name sagemaker-processing-container-test4\n",
      "docker build -t sagemaker-processing-container-test4 docker_test1/\n",
      "docker tag sagemaker-processing-container-test4:latest 667175760002.dkr.ecr.eu-central-1.amazonaws.com/sagemaker-processing-container-test4:latest\n",
      "docker push 667175760002.dkr.ecr.eu-central-1.amazonaws.com/sagemaker-processing-container-test4:latest\n",
      "\n",
      "FROM python:3.7-slim-buster\n",
      "\n",
      "RUN pip3 install pandas==0.25.3 scikit-learn==0.21.3 boto3==1.18.21 sagemaker==2.48.1 \\\n",
      "\t\tboto3\n",
      "\n",
      "ENV PYTHONUNBUFFERED=TRUE\n",
      "\n",
      "ENTRYPOINT [\"python3\"]\n",
      "\n",
      "\n"
     ]
    }
   ],
   "source": [
    "# success\n",
    "print(make_Docker(dirname= 'docker_test1/', img_name= 'sagemaker-processing-container-test4', ecr_base='667175760002.dkr.ecr.eu-central-1.amazonaws.com', cleanup= False))"
   ]
  },
  {
   "cell_type": "code",
   "execution_count": 6,
   "id": "49f64b80",
   "metadata": {},
   "outputs": [
    {
     "name": "stdout",
     "output_type": "stream",
     "text": [
      "aws ecr get-login-password --region eu-central-1 | docker login --username AWS --password-stdin 667175760002.dkr.ecr.eu-central-1.amazonaws.com\n",
      "aws ecr create-repository --repository-name docker-auto-test\n",
      "docker build -t docker-auto-test docker_test1\n",
      "docker tag docker-auto-test:latest 667175760002.dkr.ecr.eu-central-1.amazonaws.com/docker-auto-test:latest\n",
      "docker push 667175760002.dkr.ecr.eu-central-1.amazonaws.com/docker-auto-test:latest\n",
      "\n",
      "FROM python:3.7-slim-buster\n",
      "\n",
      "RUN pip3 install pandas==0.25.3 scikit-learn==0.21.3 boto3==1.18.21 sagemaker==2.48.1 \\\n",
      "\t\tboto3\n",
      "\n",
      "ENV PYTHONUNBUFFERED=TRUE\n",
      "\n",
      "ENTRYPOINT [\"python3\"]\n",
      "\n",
      "\n"
     ]
    }
   ],
   "source": [
    "print(make_Docker(ecr_base='667175760002.dkr.ecr.eu-central-1.amazonaws.com', cleanup= False))"
   ]
  },
  {
   "cell_type": "code",
   "execution_count": null,
   "id": "85f9c610",
   "metadata": {},
   "outputs": [],
   "source": [
    "docker build -t sagemaker-processing-container-test2 docker_test\n",
    "aws ecr get-login-password --region eu-central-1 | docker login --username AWS --password-stdin 667175760002.dkr.ecr.eu-central-1.amazonaws.com\n",
    "aws ecr create-repository --repository-name sagemaker-processing-container-test2\n",
    "docker tag sagemaker-processing-container-test2:latest 667175760002.dkr.ecr.eu-central-1.amazonaws.com/sagemaker-processing-container-test2:latest\n",
    "docker push 667175760002.dkr.ecr.eu-central-1.amazonaws.com/sagemaker-processing-container-test2:latest\n",
    "    \n",
    "    ECR base= 667175760002.dkr.ecr.eu-central-1.amazonaws.com\n",
    "aws ecr create-repository --repository-name docker-auto-test\n",
    "docker build -t docker-auto-test docker_test1\n",
    "docker tag docker-auto-test:latest 667175760002.dkr.ecr.eu-central-1.amazonaws.com/docker-auto-test:latest\n",
    "docker push 667175760002.dkr.ecr.eu-central-1.amazonaws.com/docker-auto-test:latest"
   ]
  }
 ],
 "metadata": {
  "kernelspec": {
   "display_name": "conda_pytorch_p36",
   "language": "python",
   "name": "conda_pytorch_p36"
  },
  "language_info": {
   "codemirror_mode": {
    "name": "ipython",
    "version": 3
   },
   "file_extension": ".py",
   "mimetype": "text/x-python",
   "name": "python",
   "nbconvert_exporter": "python",
   "pygments_lexer": "ipython3",
   "version": "3.6.13"
  }
 },
 "nbformat": 4,
 "nbformat_minor": 5
}
