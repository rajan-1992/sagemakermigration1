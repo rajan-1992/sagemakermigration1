{
 "cells": [
  {
   "cell_type": "markdown",
   "id": "78120eae",
   "metadata": {},
   "source": [
    "# Spin up a processing node via SageMaker and run some analysis"
   ]
  },
  {
   "cell_type": "markdown",
   "id": "9f61c2b9",
   "metadata": {},
   "source": [
    "## Set up basic container "
   ]
  },
  {
   "cell_type": "code",
   "execution_count": 1,
   "id": "e916285d",
   "metadata": {},
   "outputs": [
    {
     "name": "stdout",
     "output_type": "stream",
     "text": [
      "Overwriting docker_test3/Dockerfile\n"
     ]
    }
   ],
   "source": [
    "%%writefile docker_test3/Dockerfile\n",
    "\n",
    "FROM python:3.7-slim-buster\n",
    "\n",
    "RUN pip3 install pandas==0.25.3 scikit-learn==0.21.3 boto3==1.18.21 sagemaker==2.48.1 \n",
    "ENV PYTHONUNBUFFERED=TRUE\n",
    "\n",
    "ENTRYPOINT [\"python3\"]\n"
   ]
  },
  {
   "cell_type": "code",
   "execution_count": 3,
   "id": "debbc1b6",
   "metadata": {},
   "outputs": [
    {
     "data": {
      "text/plain": [
       "'2.59.3'"
      ]
     },
     "execution_count": 3,
     "metadata": {},
     "output_type": "execute_result"
    }
   ],
   "source": [
    "import sagemaker\n",
    "sagemaker.__version__"
   ]
  },
  {
   "cell_type": "code",
   "execution_count": 4,
   "id": "cf2c2a29",
   "metadata": {},
   "outputs": [
    {
     "data": {
      "text/plain": [
       "'667175760002.dkr.ecr.eu-central-1.amazonaws.com/sagemaker-processing-container-test3:latest'"
      ]
     },
     "execution_count": 4,
     "metadata": {},
     "output_type": "execute_result"
    }
   ],
   "source": [
    "import boto3\n",
    "\n",
    "account_id = boto3.client('sts').get_caller_identity().get('Account')\n",
    "region = boto3.Session().region_name\n",
    "ecr_repository = 'sagemaker-processing-container-test3'\n",
    "tag = ':latest'\n",
    "processing_repository_uri = '{}.dkr.ecr.{}.amazonaws.com/{}'.format(account_id, region, ecr_repository + tag)\n",
    "\n",
    "processing_repository_uri"
   ]
  },
  {
   "cell_type": "code",
   "execution_count": 5,
   "id": "4005f0cf",
   "metadata": {},
   "outputs": [
    {
     "name": "stdout",
     "output_type": "stream",
     "text": [
      "docker build -t sagemaker-processing-container-test3 docker_test1\n",
      " aws ecr get-login-password --region eu-central-1 | docker login --username AWS --password-stdin 667175760002.dkr.ecr.eu-central-1.amazonaws.com\n",
      "aws ecr create-repository --repository-name sagemaker-processing-container-test3\n",
      "docker tag sagemaker-processing-container-test3:latest 667175760002.dkr.ecr.eu-central-1.amazonaws.com/sagemaker-processing-container-test3:latest\n",
      "docker push 667175760002.dkr.ecr.eu-central-1.amazonaws.com/sagemaker-processing-container-test3:latest\n"
     ]
    }
   ],
   "source": [
    "\n",
    "# Create ECR repository and push docker image\n",
    "! echo docker build -t $ecr_repository docker_test1\n",
    "\n",
    "! echo \" aws ecr get-login-password --region {region} | docker login --username AWS --password-stdin {account_id}.dkr.ecr.{region}.amazonaws.com\"\n",
    "! echo aws ecr create-repository --repository-name $ecr_repository\n",
    "! echo docker tag {ecr_repository + tag} $processing_repository_uri\n",
    "! echo docker push $processing_repository_uri"
   ]
  },
  {
   "cell_type": "code",
   "execution_count": 141,
   "id": "3d58d2d6",
   "metadata": {
    "scrolled": true
   },
   "outputs": [
    {
     "name": "stdout",
     "output_type": "stream",
     "text": [
      "Sending build context to Docker daemon  2.048kB\n",
      "Step 1/4 : FROM python:3.7-slim-buster\n",
      " ---> 1241d4388782\n",
      "Step 2/4 : RUN pip3 install pandas==0.25.3 scikit-learn==0.21.3 boto3==1.18.21 sagemaker==2.48.1\n",
      " ---> Using cache\n",
      " ---> f423fbdd38d3\n",
      "Step 3/4 : ENV PYTHONUNBUFFERED=TRUE\n",
      " ---> Using cache\n",
      " ---> 679c1c3225c3\n",
      "Step 4/4 : ENTRYPOINT [\"python3\"]\n",
      " ---> Using cache\n",
      " ---> c914580b0a98\n",
      "Successfully built c914580b0a98\n",
      "Successfully tagged sagemaker-processing-container-test:latest\n",
      "------\n",
      "WARNING! Your password will be stored unencrypted in /home/ec2-user/.docker/config.json.\n",
      "Configure a credential helper to remove this warning. See\n",
      "https://docs.docker.com/engine/reference/commandline/login/#credentials-store\n",
      "\n",
      "Login Succeeded\n",
      "\n",
      "An error occurred (RepositoryAlreadyExistsException) when calling the CreateRepository operation: The repository with name 'sagemaker-processing-container-test' already exists in the registry with id '667175760002'\n",
      "The push refers to repository [667175760002.dkr.ecr.eu-central-1.amazonaws.com/sagemaker-processing-container-test]\n",
      "\n",
      "\u001b[1B2262f703: Preparing \n",
      "\u001b[1B8ac6cb11: Preparing \n",
      "\u001b[1Baabce64c: Preparing \n",
      "\u001b[1B125ea84c: Preparing \n",
      "\u001b[1B36af4d33: Preparing \n",
      "\u001b[1Bf921efae: Layer already exists \u001b[1A\u001b[2Klatest: digest: sha256:830b9ea797ddc44c1c56183f7e10edf57e2a1704d051f46b44b4413591306c85 size: 1583\n"
     ]
    }
   ],
   "source": [
    "\n",
    "# Create ECR repository and push docker image\n",
    "!docker build -t $ecr_repository docker_test\n",
    "print('------')\n",
    "!aws ecr get-login-password --region {region} | docker login --username AWS --password-stdin {account_id}.dkr.ecr.{region}.amazonaws.com\n",
    "!aws ecr create-repository --repository-name $ecr_repository\n",
    "!docker tag {ecr_repository + tag} $processing_repository_uri\n",
    "!docker push $processing_repository_uri"
   ]
  },
  {
   "cell_type": "code",
   "execution_count": 92,
   "id": "9e35be94",
   "metadata": {},
   "outputs": [
    {
     "data": {
      "text/plain": [
       "('667175760002.dkr.ecr.eu-central-1.amazonaws.com/sagemaker-processing-container-test:latest',\n",
       " 'sagemaker-processing-container-test',\n",
       " ':latest')"
      ]
     },
     "execution_count": 92,
     "metadata": {},
     "output_type": "execute_result"
    }
   ],
   "source": [
    "processing_repository_uri, ecr_repository, tag"
   ]
  },
  {
   "cell_type": "markdown",
   "id": "d458c11d",
   "metadata": {},
   "source": [
    "## Build a dummy preprocessing script\n",
    "* Download from S3\n",
    "* Upload to S3\n",
    "* Batch mode?\n",
    "* Input parameters"
   ]
  },
  {
   "cell_type": "code",
   "execution_count": 125,
   "id": "734241f2",
   "metadata": {},
   "outputs": [
    {
     "name": "stdout",
     "output_type": "stream",
     "text": [
      "Overwriting preprocessing.py\n"
     ]
    }
   ],
   "source": [
    "%%writefile preprocessing.py\n",
    "\n",
    "import pandas as pd\n",
    "import os\n",
    "import sys\n",
    "import boto3\n",
    "import sagemaker\n",
    "import argparse\n",
    "\n",
    "parser = argparse.ArgumentParser()\n",
    "\n",
    "parser.add_argument('--input', nargs='+', default= [])\n",
    "parser.add_argument('--dryrun', action='store_true')\n",
    "\n",
    "args, _ = parser.parse_known_args()\n",
    "\n",
    "todo= []\n",
    "for i in args.input:\n",
    "    newfile= '{}.csv'.format(i)\n",
    "    print('adding output file', newfile)\n",
    "    todo.append(newfile)\n",
    "\n",
    "if args.dryrun:\n",
    "    print('dryrun')\n",
    "    sys.exit()\n",
    "\n",
    "#    sys.exit()\n",
    "\n",
    "os.environ['AWS_DEFAULT_REGION'] = 'eu-central-1'\n",
    "\n",
    "# sagemaker.Session(boto3.session.Session())\n",
    "\n",
    "#\n",
    "dat= pd.DataFrame({'num_legs': [2, 4, 8, 0],\n",
    "                   'num_wings': [2, 0, 0, 0],\n",
    "                   'num_specimen_seen': [10, 2, 1, 8]},\n",
    "                  index=['falcon', 'dog', 'spider', 'fish'])\n",
    "\n",
    "# dat.to_csv()\n",
    "\n",
    "dir_out= \"/opt/ml/processing/outputs\"\n",
    "outfiles= ['abc.csv','A2.csv','A3.csv','blahblah.csv']+ todo\n",
    "\n",
    "# get TCGA files\n",
    "\n",
    "print(\"getting TCGA files from S3...\")\n",
    "all_tcga_files= sagemaker.s3.S3Downloader.list('s3://gmb-ds-dbgap/data/Digital_pathology/TCGA/')\n",
    "all_tcga_files= [i for i in all_tcga_files if i.endswith('.svs')]\n",
    "dat_TCGA= pd.DataFrame()\n",
    "dat_TCGA['File']= all_tcga_files\n",
    "dat_TCGA['Cancer']= dat_TCGA['File'].replace(\".*TCGA/\", \"\", regex= True).replace(\"/.*\", '', regex= True)\n",
    "dat_TCGA['Image']= dat_TCGA['File'].transform(lambda x: os.path.basename(x))\n",
    "\n",
    "\n",
    "print(\"generating output files\")\n",
    "\n",
    "ofile= os.path.join(dir_out, 'all_TCGA.csv')\n",
    "\n",
    "dat_TCGA.to_csv(ofile)\n",
    "\n",
    "# directly uploading to s3\n",
    "sagemaker.s3.S3Uploader.upload(ofile, 's3://gmb-ds-dbgap/test_dir/sagemaker_upload')\n",
    "\n",
    "# write some random files\n",
    "for i in outfiles:\n",
    "    fname= os.path.join(dir_out, i)\n",
    "    print('writing to ', fname)\n",
    "    dat.to_csv(fname)\n",
    "\n",
    "# all files under /opt/ml/processing/outputs will be automatically copied to the sagemaker s3 bucket\n"
   ]
  },
  {
   "cell_type": "code",
   "execution_count": 122,
   "id": "df010301",
   "metadata": {},
   "outputs": [
    {
     "data": {
      "text/plain": [
       "'1.1'"
      ]
     },
     "execution_count": 122,
     "metadata": {},
     "output_type": "execute_result"
    }
   ],
   "source": [
    "import argparse\n",
    "argparse.__version__"
   ]
  },
  {
   "cell_type": "markdown",
   "id": "8c291f75",
   "metadata": {},
   "source": [
    "## Submit job to queue"
   ]
  },
  {
   "cell_type": "code",
   "execution_count": 103,
   "id": "dd94648a",
   "metadata": {},
   "outputs": [
    {
     "data": {
      "text/plain": [
       "'arn:aws:iam::667175760002:role/service-role/AmazonSageMakerServiceCatalogProductsUseRole'"
      ]
     },
     "execution_count": 103,
     "metadata": {},
     "output_type": "execute_result"
    }
   ],
   "source": [
    "import sagemaker\n",
    "sagemaker_session = sagemaker.Session()\n",
    "role = sagemaker.get_execution_role()\n",
    "role"
   ]
  },
  {
   "cell_type": "code",
   "execution_count": 126,
   "id": "48d41440",
   "metadata": {},
   "outputs": [],
   "source": [
    "from sagemaker.processing import ScriptProcessor\n",
    "\n",
    "script_processor = ScriptProcessor(\n",
    "    command=[\"python3\"],\n",
    "    image_uri=processing_repository_uri,\n",
    "    role=role,\n",
    "    instance_count=1,\n",
    "    instance_type=\"ml.m5.large\", # ml.m5.xlarge\n",
    ")"
   ]
  },
  {
   "cell_type": "code",
   "execution_count": 128,
   "id": "e62faa6e",
   "metadata": {},
   "outputs": [
    {
     "name": "stdout",
     "output_type": "stream",
     "text": [
      "\n",
      "Job Name:  sagemaker-processing-container-test-2021-09-14-13-07-02-889\n",
      "Inputs:  [{'InputName': 'code', 'AppManaged': False, 'S3Input': {'S3Uri': 's3://sagemaker-eu-central-1-667175760002/sagemaker-processing-container-test-2021-09-14-13-07-02-889/input/code/preprocessing.py', 'LocalPath': '/opt/ml/processing/input/code', 'S3DataType': 'S3Prefix', 'S3InputMode': 'File', 'S3DataDistributionType': 'FullyReplicated', 'S3CompressionType': 'None'}}]\n",
      "Outputs:  [{'OutputName': 'outputs', 'AppManaged': False, 'S3Output': {'S3Uri': 's3://sagemaker-eu-central-1-667175760002/sagemaker-processing-container-test-2021-09-14-13-07-02-889/output/outputs', 'LocalPath': '/opt/ml/processing/outputs', 'S3UploadMode': 'EndOfJob'}}]\n",
      "......................\u001b[34madding output file file1.csv\u001b[0m\n",
      "\u001b[34madding output file file2.csv\u001b[0m\n",
      "\u001b[34madding output file file3.csv\u001b[0m\n",
      "\u001b[34madding output file file4.csv\u001b[0m\n",
      "\u001b[34madding output file file5.csv\u001b[0m\n",
      "\u001b[34mgetting TCGA files from S3...\u001b[0m\n",
      "\u001b[34mwriting to  /opt/ml/processing/outputs/abc.csv\u001b[0m\n",
      "\u001b[34mwriting to  /opt/ml/processing/outputs/A2.csv\u001b[0m\n",
      "\u001b[34mwriting to  /opt/ml/processing/outputs/A3.csv\u001b[0m\n",
      "\u001b[34mwriting to  /opt/ml/processing/outputs/blahblah.csv\u001b[0m\n",
      "\u001b[34mwriting to  /opt/ml/processing/outputs/file1.csv\u001b[0m\n",
      "\u001b[34mwriting to  /opt/ml/processing/outputs/file2.csv\u001b[0m\n",
      "\u001b[34mwriting to  /opt/ml/processing/outputs/file3.csv\u001b[0m\n",
      "\u001b[34mwriting to  /opt/ml/processing/outputs/file4.csv\u001b[0m\n",
      "\u001b[34mwriting to  /opt/ml/processing/outputs/file5.csv\u001b[0m\n",
      "\n",
      "{'ProcessingInputs': [{'InputName': 'code', 'AppManaged': False, 'S3Input': {'S3Uri': 's3://sagemaker-eu-central-1-667175760002/sagemaker-processing-container-test-2021-09-14-13-07-02-889/input/code/preprocessing.py', 'LocalPath': '/opt/ml/processing/input/code', 'S3DataType': 'S3Prefix', 'S3InputMode': 'File', 'S3DataDistributionType': 'FullyReplicated', 'S3CompressionType': 'None'}}], 'ProcessingOutputConfig': {'Outputs': [{'OutputName': 'outputs', 'S3Output': {'S3Uri': 's3://sagemaker-eu-central-1-667175760002/sagemaker-processing-container-test-2021-09-14-13-07-02-889/output/outputs', 'LocalPath': '/opt/ml/processing/outputs', 'S3UploadMode': 'EndOfJob'}, 'AppManaged': False}]}, 'ProcessingJobName': 'sagemaker-processing-container-test-2021-09-14-13-07-02-889', 'ProcessingResources': {'ClusterConfig': {'InstanceCount': 1, 'InstanceType': 'ml.m5.large', 'VolumeSizeInGB': 30}}, 'StoppingCondition': {'MaxRuntimeInSeconds': 86400}, 'AppSpecification': {'ImageUri': '667175760002.dkr.ecr.eu-central-1.amazonaws.com/sagemaker-processing-container-test:latest', 'ContainerEntrypoint': ['python3', '/opt/ml/processing/input/code/preprocessing.py'], 'ContainerArguments': ['--input', 'file1', 'file2', 'file3', 'file4', 'file5']}, 'RoleArn': 'arn:aws:iam::667175760002:role/service-role/AmazonSageMakerServiceCatalogProductsUseRole', 'ProcessingJobArn': 'arn:aws:sagemaker:eu-central-1:667175760002:processing-job/sagemaker-processing-container-test-2021-09-14-13-07-02-889', 'ProcessingJobStatus': 'Completed', 'ProcessingEndTime': datetime.datetime(2021, 9, 14, 13, 11, 45, 472000, tzinfo=tzlocal()), 'ProcessingStartTime': datetime.datetime(2021, 9, 14, 13, 10, 21, 585000, tzinfo=tzlocal()), 'LastModifiedTime': datetime.datetime(2021, 9, 14, 13, 11, 45, 758000, tzinfo=tzlocal()), 'CreationTime': datetime.datetime(2021, 9, 14, 13, 7, 3, 130000, tzinfo=tzlocal()), 'ResponseMetadata': {'RequestId': 'db120af3-8247-4215-a847-208bbfe02fff', 'HTTPStatusCode': 200, 'HTTPHeaders': {'x-amzn-requestid': 'db120af3-8247-4215-a847-208bbfe02fff', 'content-type': 'application/x-amz-json-1.1', 'content-length': '1601', 'date': 'Tue, 14 Sep 2021 13:12:16 GMT'}, 'RetryAttempts': 0}}\n"
     ]
    }
   ],
   "source": [
    "script_processor.run(\n",
    "    code=\"preprocessing.py\",\n",
    "    # inputs=[ProcessingInput(source=input_data, destination=\"/opt/ml/processing/input\")],\n",
    "    outputs=[\n",
    "        ProcessingOutput(output_name=\"outputs\", source=\"/opt/ml/processing/outputs\"),\n",
    "    ],\n",
    "    arguments=[\"--input\", \"file1\", 'file2', 'file3', 'file4', 'file5'],\n",
    ")\n",
    "script_processor_job_description = script_processor.jobs[-1].describe()\n",
    "print(script_processor_job_description)"
   ]
  },
  {
   "cell_type": "code",
   "execution_count": null,
   "id": "6c23b95e",
   "metadata": {},
   "outputs": [],
   "source": []
  },
  {
   "cell_type": "code",
   "execution_count": 97,
   "id": "323ac463",
   "metadata": {},
   "outputs": [
    {
     "data": {
      "text/plain": [
       "Session(region_name='eu-central-1')"
      ]
     },
     "execution_count": 97,
     "metadata": {},
     "output_type": "execute_result"
    }
   ],
   "source": [
    "boto3.session.Session()"
   ]
  },
  {
   "cell_type": "code",
   "execution_count": null,
   "id": "ea7c673b",
   "metadata": {},
   "outputs": [],
   "source": []
  },
  {
   "cell_type": "code",
   "execution_count": null,
   "id": "90dc63de",
   "metadata": {},
   "outputs": [],
   "source": []
  },
  {
   "cell_type": "code",
   "execution_count": null,
   "id": "930aced8",
   "metadata": {},
   "outputs": [],
   "source": []
  },
  {
   "cell_type": "markdown",
   "id": "889aa57b",
   "metadata": {},
   "source": [
    "## Old code"
   ]
  },
  {
   "cell_type": "code",
   "execution_count": 109,
   "id": "f52ca341",
   "metadata": {},
   "outputs": [
    {
     "data": {
      "text/plain": [
       "'s3://gmb-ds-dbgap/test_dir/sagemaker_upload/bank_clean.csv'"
      ]
     },
     "execution_count": 109,
     "metadata": {},
     "output_type": "execute_result"
    }
   ],
   "source": [
    "sagemaker.s3.S3Uploader.upload('bank_clean.csv', 's3://gmb-ds-dbgap/test_dir/sagemaker_upload')"
   ]
  },
  {
   "cell_type": "code",
   "execution_count": 53,
   "id": "7d189857",
   "metadata": {},
   "outputs": [
    {
     "name": "stdout",
     "output_type": "stream",
     "text": [
      "data/Digital_pathology/TCGA/TCGA-ACC/0151a039-5482-48cd-bf25-7df4349069e8/TCGA-OR-A5JZ-01Z-00-DX5.DAFFD4FE-CF6A-427C-9D31-81B7941F896E.svs\n",
      "data/Digital_pathology/TCGA/TCGA-ACC/01d60958-1b6b-4c74-b406-e73800ee7f7f/TCGA-OR-A5JY-01Z-00-DX1.23AEFC00-3720-48F1-A2C4-6914BBEB5E09.svs\n",
      "data/Digital_pathology/TCGA/TCGA-ACC/023ea8be-b887-4c3a-9695-b8a21d9375a5/TCGA-OR-A5JL-01Z-00-DX2.2C12A8F7-C0CE-48DE-B007-9EBE72645512.svs\n",
      "data/Digital_pathology/TCGA/TCGA-ACC/02413797-21db-4407-837a-03e68cc5a98c/TCGA-OR-A5K1-01Z-00-DX4.5D8E9E35-B179-44C5-8228-090808AD2AC4.svs\n",
      "data/Digital_pathology/TCGA/TCGA-ACC/02433c5c-c3a3-45c5-9ff8-30aababaa134/TCGA-OR-A5K2-01Z-00-DX4.151DF136-DFC9-4369-8FC1-1EAEEB3177BD.svs\n"
     ]
    }
   ],
   "source": [
    "bucket= 'gmb-ds-dbgap'\n",
    "subfolder='data/Digital_pathology/TCGA/'\n",
    "\n",
    "conn = boto3.client('s3')\n",
    "contents = conn.list_objects(Bucket=bucket, Prefix=subfolder, MaxKeys= 10)['Contents']\n",
    "for f in contents:\n",
    "    if f['Key'].endswith('.svs'):\n",
    "        print(f['Key'])"
   ]
  },
  {
   "cell_type": "code",
   "execution_count": 63,
   "id": "1cf90091",
   "metadata": {},
   "outputs": [],
   "source": [
    "aa= sagemaker.s3.S3Downloader.list('s3://gmb-ds-dbgap/data/Digital_pathology/TCGA')"
   ]
  },
  {
   "cell_type": "code",
   "execution_count": null,
   "id": "e3cfc223",
   "metadata": {},
   "outputs": [],
   "source": []
  },
  {
   "cell_type": "code",
   "execution_count": 76,
   "id": "e8e44b33",
   "metadata": {},
   "outputs": [],
   "source": [
    "\n",
    "all_tcga_files= sagemaker.s3.S3Downloader.list('s3://gmb-ds-dbgap/data/Digital_pathology/TCGA/')\n",
    "all_tcga_files= [i for i in all_tcga_files if i.endswith('.svs')]\n",
    "dat_TCGA= pd.DataFrame()\n",
    "dat_TCGA['File']= all_tcga_files\n",
    "dat_TCGA['Cancer']= dat_TCGA['File'].replace(\".*TCGA/\", \"\", regex= True).replace(\"/.*\", '', regex= True)\n",
    "dat_TCGA['Image']= dat_TCGA['File'].transform(lambda x: os.path.basename(x))\n"
   ]
  },
  {
   "cell_type": "code",
   "execution_count": 81,
   "id": "408482c6",
   "metadata": {},
   "outputs": [
    {
     "data": {
      "text/html": [
       "<div>\n",
       "<style scoped>\n",
       "    .dataframe tbody tr th:only-of-type {\n",
       "        vertical-align: middle;\n",
       "    }\n",
       "\n",
       "    .dataframe tbody tr th {\n",
       "        vertical-align: top;\n",
       "    }\n",
       "\n",
       "    .dataframe thead th {\n",
       "        text-align: right;\n",
       "    }\n",
       "</style>\n",
       "<table border=\"1\" class=\"dataframe\">\n",
       "  <thead>\n",
       "    <tr style=\"text-align: right;\">\n",
       "      <th></th>\n",
       "      <th>File</th>\n",
       "      <th>Cancer</th>\n",
       "      <th>Image</th>\n",
       "    </tr>\n",
       "  </thead>\n",
       "  <tbody>\n",
       "    <tr>\n",
       "      <th>0</th>\n",
       "      <td>s3://gmb-ds-dbgap/data/Digital_pathology/TCGA/...</td>\n",
       "      <td>TCGA-ACC</td>\n",
       "      <td>TCGA-OR-A5JZ-01Z-00-DX5.DAFFD4FE-CF6A-427C-9D3...</td>\n",
       "    </tr>\n",
       "    <tr>\n",
       "      <th>1</th>\n",
       "      <td>s3://gmb-ds-dbgap/data/Digital_pathology/TCGA/...</td>\n",
       "      <td>TCGA-ACC</td>\n",
       "      <td>TCGA-OR-A5JY-01Z-00-DX1.23AEFC00-3720-48F1-A2C...</td>\n",
       "    </tr>\n",
       "    <tr>\n",
       "      <th>2</th>\n",
       "      <td>s3://gmb-ds-dbgap/data/Digital_pathology/TCGA/...</td>\n",
       "      <td>TCGA-ACC</td>\n",
       "      <td>TCGA-OR-A5JL-01Z-00-DX2.2C12A8F7-C0CE-48DE-B00...</td>\n",
       "    </tr>\n",
       "    <tr>\n",
       "      <th>3</th>\n",
       "      <td>s3://gmb-ds-dbgap/data/Digital_pathology/TCGA/...</td>\n",
       "      <td>TCGA-ACC</td>\n",
       "      <td>TCGA-OR-A5K1-01Z-00-DX4.5D8E9E35-B179-44C5-822...</td>\n",
       "    </tr>\n",
       "    <tr>\n",
       "      <th>4</th>\n",
       "      <td>s3://gmb-ds-dbgap/data/Digital_pathology/TCGA/...</td>\n",
       "      <td>TCGA-ACC</td>\n",
       "      <td>TCGA-OR-A5K2-01Z-00-DX4.151DF136-DFC9-4369-8FC...</td>\n",
       "    </tr>\n",
       "    <tr>\n",
       "      <th>...</th>\n",
       "      <td>...</td>\n",
       "      <td>...</td>\n",
       "      <td>...</td>\n",
       "    </tr>\n",
       "    <tr>\n",
       "      <th>11888</th>\n",
       "      <td>s3://gmb-ds-dbgap/data/Digital_pathology/TCGA/...</td>\n",
       "      <td>TCGA-UVM</td>\n",
       "      <td>TCGA-WC-AA9A-01Z-00-DX1.623129B9-6420-4844-8E2...</td>\n",
       "    </tr>\n",
       "    <tr>\n",
       "      <th>11889</th>\n",
       "      <td>s3://gmb-ds-dbgap/data/Digital_pathology/TCGA/...</td>\n",
       "      <td>TCGA-UVM</td>\n",
       "      <td>TCGA-V4-A9EO-01Z-00-DX1.F918F843-0A2E-4ECF-953...</td>\n",
       "    </tr>\n",
       "    <tr>\n",
       "      <th>11890</th>\n",
       "      <td>s3://gmb-ds-dbgap/data/Digital_pathology/TCGA/...</td>\n",
       "      <td>TCGA-UVM</td>\n",
       "      <td>TCGA-V4-A9F3-01Z-00-DX1.39FC86CA-2833-4361-93A...</td>\n",
       "    </tr>\n",
       "    <tr>\n",
       "      <th>11891</th>\n",
       "      <td>s3://gmb-ds-dbgap/data/Digital_pathology/TCGA/...</td>\n",
       "      <td>TCGA-UVM</td>\n",
       "      <td>TCGA-VD-AA8M-01Z-00-DX1.AA194E33-B494-44E3-9C7...</td>\n",
       "    </tr>\n",
       "    <tr>\n",
       "      <th>11892</th>\n",
       "      <td>s3://gmb-ds-dbgap/data/Digital_pathology/TCGA/...</td>\n",
       "      <td>TCGA-UVM</td>\n",
       "      <td>TCGA-V4-A9EF-01Z-00-DX1.3084FABF-8AC4-403A-ADD...</td>\n",
       "    </tr>\n",
       "  </tbody>\n",
       "</table>\n",
       "<p>11893 rows × 3 columns</p>\n",
       "</div>"
      ],
      "text/plain": [
       "                                                    File    Cancer  \\\n",
       "0      s3://gmb-ds-dbgap/data/Digital_pathology/TCGA/...  TCGA-ACC   \n",
       "1      s3://gmb-ds-dbgap/data/Digital_pathology/TCGA/...  TCGA-ACC   \n",
       "2      s3://gmb-ds-dbgap/data/Digital_pathology/TCGA/...  TCGA-ACC   \n",
       "3      s3://gmb-ds-dbgap/data/Digital_pathology/TCGA/...  TCGA-ACC   \n",
       "4      s3://gmb-ds-dbgap/data/Digital_pathology/TCGA/...  TCGA-ACC   \n",
       "...                                                  ...       ...   \n",
       "11888  s3://gmb-ds-dbgap/data/Digital_pathology/TCGA/...  TCGA-UVM   \n",
       "11889  s3://gmb-ds-dbgap/data/Digital_pathology/TCGA/...  TCGA-UVM   \n",
       "11890  s3://gmb-ds-dbgap/data/Digital_pathology/TCGA/...  TCGA-UVM   \n",
       "11891  s3://gmb-ds-dbgap/data/Digital_pathology/TCGA/...  TCGA-UVM   \n",
       "11892  s3://gmb-ds-dbgap/data/Digital_pathology/TCGA/...  TCGA-UVM   \n",
       "\n",
       "                                                   Image  \n",
       "0      TCGA-OR-A5JZ-01Z-00-DX5.DAFFD4FE-CF6A-427C-9D3...  \n",
       "1      TCGA-OR-A5JY-01Z-00-DX1.23AEFC00-3720-48F1-A2C...  \n",
       "2      TCGA-OR-A5JL-01Z-00-DX2.2C12A8F7-C0CE-48DE-B00...  \n",
       "3      TCGA-OR-A5K1-01Z-00-DX4.5D8E9E35-B179-44C5-822...  \n",
       "4      TCGA-OR-A5K2-01Z-00-DX4.151DF136-DFC9-4369-8FC...  \n",
       "...                                                  ...  \n",
       "11888  TCGA-WC-AA9A-01Z-00-DX1.623129B9-6420-4844-8E2...  \n",
       "11889  TCGA-V4-A9EO-01Z-00-DX1.F918F843-0A2E-4ECF-953...  \n",
       "11890  TCGA-V4-A9F3-01Z-00-DX1.39FC86CA-2833-4361-93A...  \n",
       "11891  TCGA-VD-AA8M-01Z-00-DX1.AA194E33-B494-44E3-9C7...  \n",
       "11892  TCGA-V4-A9EF-01Z-00-DX1.3084FABF-8AC4-403A-ADD...  \n",
       "\n",
       "[11893 rows x 3 columns]"
      ]
     },
     "execution_count": 81,
     "metadata": {},
     "output_type": "execute_result"
    }
   ],
   "source": [
    "dat_TCGA"
   ]
  },
  {
   "cell_type": "code",
   "execution_count": 67,
   "id": "1cd19851",
   "metadata": {},
   "outputs": [],
   "source": [
    "dat_TCGA= pd.DataFrame()\n",
    "dat_TCGA['File']= aa"
   ]
  },
  {
   "cell_type": "code",
   "execution_count": 74,
   "id": "5f3461f0",
   "metadata": {},
   "outputs": [
    {
     "data": {
      "text/plain": [
       "0        TCGA-OR-A5JZ-01Z-00-DX5.DAFFD4FE-CF6A-427C-9D3...\n",
       "1        TCGA-OR-A5JZ-01Z-00-DX5.DAFFD4FE-CF6A-427C-9D3...\n",
       "2        TCGA-OR-A5JY-01Z-00-DX1.23AEFC00-3720-48F1-A2C...\n",
       "3        TCGA-OR-A5JY-01Z-00-DX1.23AEFC00-3720-48F1-A2C...\n",
       "4        TCGA-OR-A5JL-01Z-00-DX2.2C12A8F7-C0CE-48DE-B00...\n",
       "                               ...                        \n",
       "23796    TCGA-VD-AA8M-01Z-00-DX1.AA194E33-B494-44E3-9C7...\n",
       "23797    TCGA-VD-AA8M-01Z-00-DX1.AA194E33-B494-44E3-9C7...\n",
       "23798    TCGA-V4-A9EF-01Z-00-DX1.3084FABF-8AC4-403A-ADD...\n",
       "23799    TCGA-V4-A9EF-01Z-00-DX1.3084FABF-8AC4-403A-ADD...\n",
       "23800                               TCGA_imaging_files.tsv\n",
       "Name: File, Length: 23801, dtype: object"
      ]
     },
     "execution_count": 74,
     "metadata": {},
     "output_type": "execute_result"
    }
   ],
   "source": [
    "dat_TCGA['File'].transform(lambda x: os.path.basename(x))"
   ]
  },
  {
   "cell_type": "code",
   "execution_count": 32,
   "id": "594e5068",
   "metadata": {},
   "outputs": [
    {
     "data": {
      "text/plain": [
       "'arn:aws:iam::667175760002:role/service-role/AmazonSageMakerServiceCatalogProductsUseRole'"
      ]
     },
     "execution_count": 32,
     "metadata": {},
     "output_type": "execute_result"
    }
   ],
   "source": [
    "from sagemaker import get_execution_role\n",
    "\n",
    "role = get_execution_role()\n",
    "\n",
    "role"
   ]
  },
  {
   "cell_type": "code",
   "execution_count": 18,
   "id": "dde2bd2b",
   "metadata": {},
   "outputs": [],
   "source": []
  },
  {
   "cell_type": "code",
   "execution_count": null,
   "id": "6cd59bf8",
   "metadata": {},
   "outputs": [],
   "source": []
  }
 ],
 "metadata": {
  "kernelspec": {
   "display_name": "conda_pytorch_p36",
   "language": "python",
   "name": "conda_pytorch_p36"
  },
  "language_info": {
   "codemirror_mode": {
    "name": "ipython",
    "version": 3
   },
   "file_extension": ".py",
   "mimetype": "text/x-python",
   "name": "python",
   "nbconvert_exporter": "python",
   "pygments_lexer": "ipython3",
   "version": "3.6.13"
  }
 },
 "nbformat": 4,
 "nbformat_minor": 5
}
